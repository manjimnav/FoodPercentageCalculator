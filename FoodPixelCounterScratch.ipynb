{
  "nbformat": 4,
  "nbformat_minor": 0,
  "metadata": {
    "colab": {
      "name": "FoodPixelCounterScratch.ipynb",
      "provenance": [],
      "collapsed_sections": []
    },
    "kernelspec": {
      "name": "python3",
      "display_name": "Python 3"
    },
    "accelerator": "GPU"
  },
  "cells": [
    {
      "cell_type": "code",
      "metadata": {
        "id": "-Hu8hKNsFZtp",
        "colab_type": "code",
        "colab": {
          "base_uri": "https://localhost:8080/",
          "height": 101
        },
        "outputId": "ed55b150-0290-41af-9dcf-7ab30aa3e2f2"
      },
      "source": [
        "import tensorflow as tf\n",
        "import pandas as pd\n",
        "from keras.preprocessing.image import ImageDataGenerator  \n",
        "from keras.applications import densenet  \n",
        "from keras.models import Sequential, Model, load_model  \n",
        "from keras.optimizers import Adam\n",
        "from keras.layers import Conv2D, MaxPooling2D, AveragePooling2D,BatchNormalization, Input\n",
        "from keras.layers import Activation, Dropout, Flatten, Dense, LeakyReLU\n",
        "from keras.callbacks import EarlyStopping, ReduceLROnPlateau, ModelCheckpoint, Callback  \n",
        "from keras import regularizers  \n",
        "from keras import backend as K \n",
        "from PIL import Image\n",
        "\n",
        "from keras.applications.inception_v3 import InceptionV3\n",
        "from keras.applications.inception_v3 import preprocess_input, decode_predictions\n",
        "\n",
        "import numpy as np\n",
        "import matplotlib.pyplot as plt\n",
        "\n",
        "tf.__version__"
      ],
      "execution_count": null,
      "outputs": [
        {
          "output_type": "display_data",
          "data": {
            "text/html": [
              "<p style=\"color: red;\">\n",
              "The default version of TensorFlow in Colab will soon switch to TensorFlow 2.x.<br>\n",
              "We recommend you <a href=\"https://www.tensorflow.org/guide/migrate\" target=\"_blank\">upgrade</a> now \n",
              "or ensure your notebook will continue to use TensorFlow 1.x via the <code>%tensorflow_version 1.x</code> magic:\n",
              "<a href=\"https://colab.research.google.com/notebooks/tensorflow_version.ipynb\" target=\"_blank\">more info</a>.</p>\n"
            ],
            "text/plain": [
              "<IPython.core.display.HTML object>"
            ]
          },
          "metadata": {
            "tags": []
          }
        },
        {
          "output_type": "stream",
          "text": [
            "Using TensorFlow backend.\n"
          ],
          "name": "stderr"
        },
        {
          "output_type": "execute_result",
          "data": {
            "text/plain": [
              "'1.15.0'"
            ]
          },
          "metadata": {
            "tags": []
          },
          "execution_count": 1
        }
      ]
    },
    {
      "cell_type": "code",
      "metadata": {
        "id": "vLBdZgjw1cST",
        "colab_type": "code",
        "colab": {}
      },
      "source": [
        "def rmse(y_pred, y_true):\n",
        "    return K.sqrt(K.mean(K.square(y_pred - y_true)))"
      ],
      "execution_count": null,
      "outputs": []
    },
    {
      "cell_type": "code",
      "metadata": {
        "id": "gnf-6XuySOtH",
        "colab_type": "code",
        "colab": {}
      },
      "source": [
        "def pred_rmse(y_pred, y_true):\n",
        "  return np.sqrt(np.mean((y_pred.values-y_true.squeeze())**2))"
      ],
      "execution_count": null,
      "outputs": []
    },
    {
      "cell_type": "code",
      "metadata": {
        "id": "gk1rqrDGHQ4X",
        "colab_type": "code",
        "colab": {}
      },
      "source": [
        "percentages = pd.read_csv('/content/drive/My Drive/Master/DeepLearning/UNIMIB2016/percentage.csv')"
      ],
      "execution_count": null,
      "outputs": []
    },
    {
      "cell_type": "code",
      "metadata": {
        "id": "l2KsR01LHx_L",
        "colab_type": "code",
        "colab": {
          "base_uri": "https://localhost:8080/",
          "height": 288
        },
        "outputId": "9e6639fd-f7c9-48b2-a550-1e28e49b4706"
      },
      "source": [
        "percentages.describe()"
      ],
      "execution_count": null,
      "outputs": [
        {
          "output_type": "execute_result",
          "data": {
            "text/html": [
              "<div>\n",
              "<style scoped>\n",
              "    .dataframe tbody tr th:only-of-type {\n",
              "        vertical-align: middle;\n",
              "    }\n",
              "\n",
              "    .dataframe tbody tr th {\n",
              "        vertical-align: top;\n",
              "    }\n",
              "\n",
              "    .dataframe thead th {\n",
              "        text-align: right;\n",
              "    }\n",
              "</style>\n",
              "<table border=\"1\" class=\"dataframe\">\n",
              "  <thead>\n",
              "    <tr style=\"text-align: right;\">\n",
              "      <th></th>\n",
              "      <th>food_pixels</th>\n",
              "    </tr>\n",
              "  </thead>\n",
              "  <tbody>\n",
              "    <tr>\n",
              "      <th>count</th>\n",
              "      <td>1027.000000</td>\n",
              "    </tr>\n",
              "    <tr>\n",
              "      <th>mean</th>\n",
              "      <td>14.155570</td>\n",
              "    </tr>\n",
              "    <tr>\n",
              "      <th>std</th>\n",
              "      <td>4.980387</td>\n",
              "    </tr>\n",
              "    <tr>\n",
              "      <th>min</th>\n",
              "      <td>1.454018</td>\n",
              "    </tr>\n",
              "    <tr>\n",
              "      <th>25%</th>\n",
              "      <td>10.653793</td>\n",
              "    </tr>\n",
              "    <tr>\n",
              "      <th>50%</th>\n",
              "      <td>14.272468</td>\n",
              "    </tr>\n",
              "    <tr>\n",
              "      <th>75%</th>\n",
              "      <td>17.610183</td>\n",
              "    </tr>\n",
              "    <tr>\n",
              "      <th>max</th>\n",
              "      <td>31.496249</td>\n",
              "    </tr>\n",
              "  </tbody>\n",
              "</table>\n",
              "</div>"
            ],
            "text/plain": [
              "       food_pixels\n",
              "count  1027.000000\n",
              "mean     14.155570\n",
              "std       4.980387\n",
              "min       1.454018\n",
              "25%      10.653793\n",
              "50%      14.272468\n",
              "75%      17.610183\n",
              "max      31.496249"
            ]
          },
          "metadata": {
            "tags": []
          },
          "execution_count": 4
        }
      ]
    },
    {
      "cell_type": "code",
      "metadata": {
        "id": "gyXlLgIPzaXL",
        "colab_type": "code",
        "colab": {}
      },
      "source": [
        "test_index = int(len(percentages)*0.75)\n",
        "train = percentages.iloc[:test_index,:]\n",
        "test = percentages.iloc[test_index:,:]"
      ],
      "execution_count": null,
      "outputs": []
    },
    {
      "cell_type": "code",
      "metadata": {
        "id": "zsCd9xE_Hl9E",
        "colab_type": "code",
        "colab": {
          "base_uri": "https://localhost:8080/",
          "height": 72
        },
        "outputId": "6fc70e09-ec1d-4295-9073-aefab89a0502"
      },
      "source": [
        "validation_split = 0.1\n",
        "train_data_dir = '/content/drive/My Drive/Master/DeepLearning/UNIMIB2016/images'\n",
        "img_height, img_width = 320, 240\n",
        "batch_size = 32\n",
        "nb_epochs = 100\n",
        "\n",
        "train_datagen = ImageDataGenerator(rescale=1./255,\n",
        "    validation_split=validation_split, horizontal_flip=True,\n",
        "     vertical_flip=True, rotation_range=90, brightness_range=[0.2,1.0])\n",
        "\n",
        "test_datagen = ImageDataGenerator(rescale=1./255)  \n",
        "\n",
        "train_generator = train_datagen.flow_from_dataframe(\n",
        "     dataframe=train,\n",
        "    directory=train_data_dir,\n",
        "    x_col=\"image_name\",\n",
        "    y_col=\"food_pixels\",\n",
        "    target_size=(img_height, img_width),\n",
        "    batch_size=batch_size,\n",
        "    class_mode=\"raw\",\n",
        "    color_mode = \"grayscale\",\n",
        "    subset='training')\n",
        "\n",
        "validation_generator = train_datagen.flow_from_dataframe(\n",
        "    dataframe=train,\n",
        "    directory=train_data_dir,\n",
        "    x_col=\"image_name\",\n",
        "    y_col=\"food_pixels\",\n",
        "    target_size=(img_height, img_width),\n",
        "    batch_size=batch_size,\n",
        "    class_mode=\"raw\",\n",
        "    color_mode = \"grayscale\",\n",
        "    subset='validation')\n",
        "\n",
        "test_generator = test_datagen.flow_from_dataframe(\n",
        "     dataframe=test,\n",
        "    directory=train_data_dir,\n",
        "    x_col=\"image_name\",\n",
        "    y_col=\"food_pixels\",\n",
        "    target_size=(img_height, img_width),\n",
        "    batch_size=batch_size,\n",
        "    color_mode = \"grayscale\",\n",
        "    class_mode=\"raw\", shuffle=False)"
      ],
      "execution_count": null,
      "outputs": [
        {
          "output_type": "stream",
          "text": [
            "Found 693 validated image filenames.\n",
            "Found 77 validated image filenames.\n",
            "Found 257 validated image filenames.\n"
          ],
          "name": "stdout"
        }
      ]
    },
    {
      "cell_type": "code",
      "metadata": {
        "id": "6lvSyK35HuKQ",
        "colab_type": "code",
        "colab": {}
      },
      "source": [
        "inputs = Input(shape=(img_height, img_width, 1))\n",
        "\n",
        "x = Conv2D(16, (3, 3), padding='same')(inputs)\n",
        "x = BatchNormalization()(x)\n",
        "x = LeakyReLU()(x)\n",
        "x = Conv2D(16, (3, 3), padding='same')(x)\n",
        "x = BatchNormalization()(x)\n",
        "x = LeakyReLU()(x)\n",
        "x = MaxPooling2D(pool_size=(2, 2))(x)\n",
        "x = Dropout(0.5)(x)\n",
        "\n",
        "x = Conv2D(8, (3, 3), padding='same')(x)\n",
        "x = BatchNormalization()(x)\n",
        "x = LeakyReLU()(x)\n",
        "x = Conv2D(8, (3, 3), padding='same')(x)\n",
        "x = BatchNormalization()(x)\n",
        "x = LeakyReLU()(x)\n",
        "x = MaxPooling2D(pool_size=(2, 2))(x)\n",
        "x = Dropout(0.5)(x)\n",
        "\n",
        "x = Flatten()(x)\n",
        "x = Dense(16)(x)\n",
        "x = LeakyReLU()(x)\n",
        "\n",
        "x = Dense(4)(x)\n",
        "x = LeakyReLU()(x)\n",
        "\n",
        "x = Dense(1, activation=\"linear\")(x)\n",
        "model = Model(inputs, x)"
      ],
      "execution_count": null,
      "outputs": []
    },
    {
      "cell_type": "code",
      "metadata": {
        "id": "vdF9UU4QztXP",
        "colab_type": "code",
        "colab": {}
      },
      "source": [
        "#opt = Adam(lr=1e-3, decay=1e-3 / 200)\n",
        "es = EarlyStopping(monitor='val_loss', patience=10, mode='auto', restore_best_weights=True)\n",
        "r_lr = ReduceLROnPlateau(monitor='val_loss', patience=5, mode='auto', min_lr=1e-6)\n",
        "model.compile(loss=\"mean_squared_error\", optimizer=\"adam\", metrics=['mae', 'mse', rmse])"
      ],
      "execution_count": null,
      "outputs": []
    },
    {
      "cell_type": "code",
      "metadata": {
        "id": "-VNuAJoh0Cyv",
        "colab_type": "code",
        "colab": {
          "base_uri": "https://localhost:8080/",
          "height": 999
        },
        "outputId": "91c9a729-0437-4a29-af46-9d5c7c74e909"
      },
      "source": [
        "model.summary()"
      ],
      "execution_count": null,
      "outputs": [
        {
          "output_type": "stream",
          "text": [
            "Model: \"model_8\"\n",
            "_________________________________________________________________\n",
            "Layer (type)                 Output Shape              Param #   \n",
            "=================================================================\n",
            "input_8 (InputLayer)         (None, 320, 240, 1)       0         \n",
            "_________________________________________________________________\n",
            "conv2d_21 (Conv2D)           (None, 320, 240, 16)      160       \n",
            "_________________________________________________________________\n",
            "batch_normalization_21 (Batc (None, 320, 240, 16)      64        \n",
            "_________________________________________________________________\n",
            "leaky_re_lu_35 (LeakyReLU)   (None, 320, 240, 16)      0         \n",
            "_________________________________________________________________\n",
            "conv2d_22 (Conv2D)           (None, 320, 240, 16)      2320      \n",
            "_________________________________________________________________\n",
            "batch_normalization_22 (Batc (None, 320, 240, 16)      64        \n",
            "_________________________________________________________________\n",
            "leaky_re_lu_36 (LeakyReLU)   (None, 320, 240, 16)      0         \n",
            "_________________________________________________________________\n",
            "max_pooling2d_15 (MaxPooling (None, 160, 120, 16)      0         \n",
            "_________________________________________________________________\n",
            "dropout_15 (Dropout)         (None, 160, 120, 16)      0         \n",
            "_________________________________________________________________\n",
            "conv2d_23 (Conv2D)           (None, 160, 120, 8)       1160      \n",
            "_________________________________________________________________\n",
            "batch_normalization_23 (Batc (None, 160, 120, 8)       32        \n",
            "_________________________________________________________________\n",
            "leaky_re_lu_37 (LeakyReLU)   (None, 160, 120, 8)       0         \n",
            "_________________________________________________________________\n",
            "conv2d_24 (Conv2D)           (None, 160, 120, 8)       584       \n",
            "_________________________________________________________________\n",
            "batch_normalization_24 (Batc (None, 160, 120, 8)       32        \n",
            "_________________________________________________________________\n",
            "leaky_re_lu_38 (LeakyReLU)   (None, 160, 120, 8)       0         \n",
            "_________________________________________________________________\n",
            "max_pooling2d_16 (MaxPooling (None, 80, 60, 8)         0         \n",
            "_________________________________________________________________\n",
            "dropout_16 (Dropout)         (None, 80, 60, 8)         0         \n",
            "_________________________________________________________________\n",
            "flatten_8 (Flatten)          (None, 38400)             0         \n",
            "_________________________________________________________________\n",
            "dense_22 (Dense)             (None, 16)                614416    \n",
            "_________________________________________________________________\n",
            "leaky_re_lu_39 (LeakyReLU)   (None, 16)                0         \n",
            "_________________________________________________________________\n",
            "dense_23 (Dense)             (None, 4)                 68        \n",
            "_________________________________________________________________\n",
            "leaky_re_lu_40 (LeakyReLU)   (None, 4)                 0         \n",
            "_________________________________________________________________\n",
            "dense_24 (Dense)             (None, 1)                 5         \n",
            "=================================================================\n",
            "Total params: 618,905\n",
            "Trainable params: 618,809\n",
            "Non-trainable params: 96\n",
            "_________________________________________________________________\n"
          ],
          "name": "stdout"
        }
      ]
    },
    {
      "cell_type": "code",
      "metadata": {
        "id": "6YmhTtXHSb8R",
        "colab_type": "code",
        "colab": {
          "base_uri": "https://localhost:8080/",
          "height": 1000
        },
        "outputId": "b54a043a-e94f-452f-ba7d-5e06f35a4643"
      },
      "source": [
        "model.fit_generator(\n",
        "    train_generator,\n",
        "    steps_per_epoch = train_generator.samples // batch_size,\n",
        "    validation_data = validation_generator, \n",
        "    validation_steps = validation_generator.samples // batch_size,\n",
        "    epochs = nb_epochs, callbacks = [es, r_lr])"
      ],
      "execution_count": null,
      "outputs": [
        {
          "output_type": "stream",
          "text": [
            "Epoch 1/100\n",
            "21/21 [==============================] - 13s 596ms/step - loss: 170.2396 - mean_absolute_error: 9.6178 - mean_squared_error: 170.2396 - rmse: 10.8920 - val_loss: 118.9055 - val_mean_absolute_error: 9.1452 - val_mean_squared_error: 118.9055 - val_rmse: 10.8826\n",
            "Epoch 2/100\n",
            "21/21 [==============================] - 11s 520ms/step - loss: 34.2876 - mean_absolute_error: 4.6987 - mean_squared_error: 34.2876 - rmse: 5.7441 - val_loss: 110.4989 - val_mean_absolute_error: 9.6674 - val_mean_squared_error: 110.4989 - val_rmse: 10.4872\n",
            "Epoch 3/100\n",
            "21/21 [==============================] - 10s 490ms/step - loss: 21.8779 - mean_absolute_error: 3.7735 - mean_squared_error: 21.8779 - rmse: 4.6445 - val_loss: 118.9287 - val_mean_absolute_error: 9.4943 - val_mean_squared_error: 118.9287 - val_rmse: 10.8738\n",
            "Epoch 4/100\n",
            "21/21 [==============================] - 11s 530ms/step - loss: 16.9824 - mean_absolute_error: 3.3064 - mean_squared_error: 16.9824 - rmse: 4.0890 - val_loss: 71.8993 - val_mean_absolute_error: 7.2847 - val_mean_squared_error: 71.8993 - val_rmse: 8.4761\n",
            "Epoch 5/100\n",
            "21/21 [==============================] - 11s 540ms/step - loss: 17.9810 - mean_absolute_error: 3.3913 - mean_squared_error: 17.9810 - rmse: 4.2050 - val_loss: 92.2094 - val_mean_absolute_error: 8.6866 - val_mean_squared_error: 92.2094 - val_rmse: 9.5858\n",
            "Epoch 6/100\n",
            "21/21 [==============================] - 10s 489ms/step - loss: 16.5261 - mean_absolute_error: 3.1346 - mean_squared_error: 16.5261 - rmse: 4.0232 - val_loss: 74.4344 - val_mean_absolute_error: 7.1519 - val_mean_squared_error: 74.4344 - val_rmse: 8.5020\n",
            "Epoch 7/100\n",
            "21/21 [==============================] - 11s 520ms/step - loss: 15.6197 - mean_absolute_error: 3.0836 - mean_squared_error: 15.6197 - rmse: 3.9307 - val_loss: 136.3973 - val_mean_absolute_error: 10.4841 - val_mean_squared_error: 136.3973 - val_rmse: 11.6711\n",
            "Epoch 8/100\n",
            "21/21 [==============================] - 11s 526ms/step - loss: 15.6587 - mean_absolute_error: 3.1328 - mean_squared_error: 15.6587 - rmse: 3.9195 - val_loss: 77.6585 - val_mean_absolute_error: 7.5873 - val_mean_squared_error: 77.6585 - val_rmse: 8.7828\n",
            "Epoch 9/100\n",
            "21/21 [==============================] - 10s 489ms/step - loss: 15.3299 - mean_absolute_error: 3.0856 - mean_squared_error: 15.3299 - rmse: 3.8749 - val_loss: 39.8875 - val_mean_absolute_error: 4.9195 - val_mean_squared_error: 39.8875 - val_rmse: 6.3084\n",
            "Epoch 10/100\n",
            "21/21 [==============================] - 11s 535ms/step - loss: 15.7868 - mean_absolute_error: 3.0754 - mean_squared_error: 15.7868 - rmse: 3.9385 - val_loss: 59.7925 - val_mean_absolute_error: 6.4677 - val_mean_squared_error: 59.7925 - val_rmse: 7.7242\n",
            "Epoch 11/100\n",
            "21/21 [==============================] - 11s 533ms/step - loss: 15.0900 - mean_absolute_error: 3.0098 - mean_squared_error: 15.0900 - rmse: 3.8666 - val_loss: 57.3169 - val_mean_absolute_error: 6.3871 - val_mean_squared_error: 57.3169 - val_rmse: 7.5616\n",
            "Epoch 12/100\n",
            "21/21 [==============================] - 10s 496ms/step - loss: 15.9381 - mean_absolute_error: 3.0765 - mean_squared_error: 15.9381 - rmse: 3.9397 - val_loss: 37.1663 - val_mean_absolute_error: 4.5238 - val_mean_squared_error: 37.1663 - val_rmse: 6.0680\n",
            "Epoch 13/100\n",
            "21/21 [==============================] - 11s 525ms/step - loss: 13.5456 - mean_absolute_error: 2.8599 - mean_squared_error: 13.5456 - rmse: 3.6295 - val_loss: 57.8548 - val_mean_absolute_error: 6.1895 - val_mean_squared_error: 57.8548 - val_rmse: 7.5195\n",
            "Epoch 14/100\n",
            "21/21 [==============================] - 11s 524ms/step - loss: 16.7815 - mean_absolute_error: 3.1765 - mean_squared_error: 16.7815 - rmse: 4.0531 - val_loss: 54.1578 - val_mean_absolute_error: 6.2124 - val_mean_squared_error: 54.1578 - val_rmse: 7.3454\n",
            "Epoch 15/100\n",
            "21/21 [==============================] - 10s 497ms/step - loss: 16.3909 - mean_absolute_error: 3.2185 - mean_squared_error: 16.3909 - rmse: 4.0151 - val_loss: 22.4918 - val_mean_absolute_error: 3.5582 - val_mean_squared_error: 22.4918 - val_rmse: 4.7131\n",
            "Epoch 16/100\n",
            "21/21 [==============================] - 11s 526ms/step - loss: 15.7057 - mean_absolute_error: 3.1233 - mean_squared_error: 15.7057 - rmse: 3.9252 - val_loss: 26.3549 - val_mean_absolute_error: 4.1096 - val_mean_squared_error: 26.3549 - val_rmse: 5.1236\n",
            "Epoch 17/100\n",
            "21/21 [==============================] - 11s 531ms/step - loss: 15.4863 - mean_absolute_error: 3.0445 - mean_squared_error: 15.4863 - rmse: 3.8998 - val_loss: 20.3588 - val_mean_absolute_error: 3.2960 - val_mean_squared_error: 20.3588 - val_rmse: 4.5022\n",
            "Epoch 18/100\n",
            "21/21 [==============================] - 10s 491ms/step - loss: 15.9893 - mean_absolute_error: 3.0727 - mean_squared_error: 15.9893 - rmse: 3.9527 - val_loss: 31.8339 - val_mean_absolute_error: 4.2480 - val_mean_squared_error: 31.8339 - val_rmse: 5.6082\n",
            "Epoch 19/100\n",
            "21/21 [==============================] - 11s 530ms/step - loss: 16.4244 - mean_absolute_error: 3.1234 - mean_squared_error: 16.4244 - rmse: 4.0231 - val_loss: 57.4349 - val_mean_absolute_error: 6.2343 - val_mean_squared_error: 57.4349 - val_rmse: 7.5758\n",
            "Epoch 20/100\n",
            "21/21 [==============================] - 11s 534ms/step - loss: 14.7712 - mean_absolute_error: 2.9818 - mean_squared_error: 14.7712 - rmse: 3.8046 - val_loss: 41.4578 - val_mean_absolute_error: 5.4050 - val_mean_squared_error: 41.4578 - val_rmse: 6.3321\n",
            "Epoch 21/100\n",
            "21/21 [==============================] - 10s 491ms/step - loss: 15.2966 - mean_absolute_error: 3.0397 - mean_squared_error: 15.2966 - rmse: 3.8785 - val_loss: 33.3438 - val_mean_absolute_error: 4.6158 - val_mean_squared_error: 33.3438 - val_rmse: 5.7310\n",
            "Epoch 22/100\n",
            "21/21 [==============================] - 11s 525ms/step - loss: 16.3436 - mean_absolute_error: 3.1765 - mean_squared_error: 16.3436 - rmse: 3.9968 - val_loss: 50.0312 - val_mean_absolute_error: 5.6779 - val_mean_squared_error: 50.0312 - val_rmse: 7.0711\n",
            "Epoch 23/100\n",
            "21/21 [==============================] - 11s 500ms/step - loss: 14.2962 - mean_absolute_error: 2.9126 - mean_squared_error: 14.2962 - rmse: 3.7503 - val_loss: 36.8944 - val_mean_absolute_error: 5.1042 - val_mean_squared_error: 36.8944 - val_rmse: 6.0299\n",
            "Epoch 24/100\n",
            "21/21 [==============================] - 10s 495ms/step - loss: 13.6999 - mean_absolute_error: 2.8915 - mean_squared_error: 13.6999 - rmse: 3.6399 - val_loss: 38.4785 - val_mean_absolute_error: 4.3672 - val_mean_squared_error: 38.4785 - val_rmse: 6.1550\n",
            "Epoch 25/100\n",
            "21/21 [==============================] - 11s 532ms/step - loss: 14.7701 - mean_absolute_error: 2.9183 - mean_squared_error: 14.7701 - rmse: 3.7982 - val_loss: 53.5087 - val_mean_absolute_error: 5.8254 - val_mean_squared_error: 53.5087 - val_rmse: 7.2550\n",
            "Epoch 26/100\n",
            "21/21 [==============================] - 11s 520ms/step - loss: 14.2932 - mean_absolute_error: 2.9026 - mean_squared_error: 14.2932 - rmse: 3.7316 - val_loss: 45.4840 - val_mean_absolute_error: 5.4592 - val_mean_squared_error: 45.4840 - val_rmse: 6.7324\n",
            "Epoch 27/100\n",
            "21/21 [==============================] - 11s 501ms/step - loss: 13.5063 - mean_absolute_error: 2.8802 - mean_squared_error: 13.5063 - rmse: 3.6441 - val_loss: 36.5639 - val_mean_absolute_error: 5.0208 - val_mean_squared_error: 36.5639 - val_rmse: 5.9633\n"
          ],
          "name": "stdout"
        },
        {
          "output_type": "execute_result",
          "data": {
            "text/plain": [
              "<keras.callbacks.History at 0x7f62517ebb70>"
            ]
          },
          "metadata": {
            "tags": []
          },
          "execution_count": 33
        }
      ]
    },
    {
      "cell_type": "code",
      "metadata": {
        "id": "HcOrbzHxACLa",
        "colab_type": "code",
        "colab": {
          "base_uri": "https://localhost:8080/",
          "height": 35
        },
        "outputId": "2a6aa35a-985f-461a-cd1c-ea65977d0fad"
      },
      "source": [
        "import numpy as np\n",
        "print(\"RMSE: \"+str(pred_rmse(test[\"food_pixels\"], model.predict(test_generator))))"
      ],
      "execution_count": null,
      "outputs": [
        {
          "output_type": "stream",
          "text": [
            "RMSE: 4.567784853379181\n"
          ],
          "name": "stdout"
        }
      ]
    },
    {
      "cell_type": "code",
      "metadata": {
        "id": "r4aoPbMOKR64",
        "colab_type": "code",
        "colab": {}
      },
      "source": [
        "model.save('/content/drive/My Drive/Master/DeepLearning/UNIMIB2016/models/raw_model.h5')"
      ],
      "execution_count": null,
      "outputs": []
    }
  ]
}